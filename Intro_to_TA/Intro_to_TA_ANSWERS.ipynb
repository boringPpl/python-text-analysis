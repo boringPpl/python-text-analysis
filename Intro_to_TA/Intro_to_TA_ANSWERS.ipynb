{
 "cells": [
  {
   "cell_type": "markdown",
   "metadata": {},
   "source": [
    "# Introduction to Text Analysis"
   ]
  },
  {
   "cell_type": "markdown",
   "metadata": {},
   "source": [
    "## Challenge 1: Regex parsing"
   ]
  },
  {
   "cell_type": "markdown",
   "metadata": {},
   "source": [
    "Using the regex patter `p` above, print the `set` of unique characters in *Monty Python*:"
   ]
  },
  {
   "cell_type": "code",
   "execution_count": 10,
   "metadata": {
    "collapsed": false
   },
   "outputs": [
    {
     "name": "stdout",
     "output_type": "stream",
     "text": [
      "{'INSPECTOR', 'DENNIS', 'KNIGHTS OF NI', 'PIGLET', 'SECOND BROTHER', ' GREEN KNIGHT', 'BLACK KNIGHT', 'CAMERAMAN', 'CARTOON CHARACTERS', 'FRENCH GUARDS', ' CRAPPER', 'LAUNCELOT', 'PATSY', 'LEFT HEAD', 'SIR GALAHAD', 'MIDDLE HEAD', 'VOICE', 'FATHER', 'ROGER THE SHRUBBER', 'ARTHUR', 'SIR ROBIN', 'CARTOON CHARACTER', 'AMAZING', 'OTHER FRENCH GUARD', 'TIM THE ENCHANTER', 'GUESTS', 'CRONE', 'CARTOON MONKS', 'S WIFE', 'PRINCE HERBERT', 'SIR LAUNCELOT', 'DINGO', 'KING ARTHUR', 'HISTORIAN', ' BLACK KNIGHT', 'MONKS', 'KNIGHTS', 'SUN', 'RANDOM', 'GOD', 'OLD MAN', ' BEDEVERE', 'BRIDGEKEEPER', ' PARTY', 'GIRLS', 'HEAD KNIGHT OF NI', 'MINSTREL', 'STUNNER', 'GALAHAD', 'FRENCH GUARD', 'KNIGHT', 'S FATHER', 'GUEST', 'ANIMATOR', 'CROWD', 'NARRATOR', 'WITCH', 'MAN', 'WOMAN', 'TIM', 'MASTER', 'DEAD PERSON', 'BEDEVERE', 'DIRECTOR', 'CONCORDE', 'WINSTON', 'LOVELY', 'GREEN KNIGHT', 'HEAD KNIGHT', 'ROGER', 'PRISONER', 'BROTHER MAYNARD', ' GIRLS', 'BORS', 'ALL HEADS', 'ZOOT', 'MAYNARD', 'CUSTOMER', 'ROBIN', 'OLD CRONE', 'SIR BEDEVERE', 'RIGHT HEAD', 'ARMY OF KNIGHTS', 'HERBERT'} 84\n"
     ]
    }
   ],
   "source": [
    "matches = re.findall(p, document)\n",
    "chars = set([x[0] for x in matches])\n",
    "print(chars, len(chars))"
   ]
  },
  {
   "cell_type": "markdown",
   "metadata": {},
   "source": [
    "You should have 84 different characters.\n",
    "\n",
    "Now use the `set` you made above to gather all dialogue into a character `dictionary`, with the keys being the character name and the value being a list of dialogues.:"
   ]
  },
  {
   "cell_type": "code",
   "execution_count": 11,
   "metadata": {
    "collapsed": false
   },
   "outputs": [],
   "source": [
    "# char_dict[\"ARTHUR\"] should give you a list of strings with his dialogue\n",
    "\n",
    "char_dict = {}\n",
    "for n in chars:\n",
    "    char_dict[n] = re.findall(re.compile(r'(?:' + n + ': )(.+)'), document)"
   ]
  },
  {
   "cell_type": "code",
   "execution_count": 12,
   "metadata": {
    "collapsed": false
   },
   "outputs": [
    {
     "data": {
      "text/plain": [
       "['Whoa there!  [clop clop clop] ',\n",
       " 'It is I, Arthur, son of Uther Pendragon, from the castle of Camelot.  King of the Britons, defeator of the Saxons, sovereign of all England!',\n",
       " 'I am, ...  and this is my trusty servant Patsy.  We have ridden the length and breadth of the land in search of knights who will join me in my court at Camelot.  I must speak with your lord and master.',\n",
       " 'Yes!',\n",
       " 'What?',\n",
       " 'So?  We have ridden since the snows of winter covered this land, through the kingdom of Mercea, through--',\n",
       " 'We found them.',\n",
       " 'What do you mean?',\n",
       " 'The swallow may fly south with the sun or the house martin or the plover may seek warmer climes in winter, yet these are not strangers to our land?',\n",
       " 'Not at all.  They could be carried.',\n",
       " 'It could grip it by the husk!',\n",
       " \"Well, it doesn't matter.  Will you go and tell your master that Arthur from the Court of Camelot is here.\",\n",
       " 'Please!',\n",
       " \"I'm not interested!\",\n",
       " 'Will you ask your master if he wants to join my court at Camelot?!',\n",
       " 'Old woman!',\n",
       " 'Man.  Sorry.  What knight live in that castle over there?',\n",
       " 'I-- what?',\n",
       " \"Well, I can't just call you 'Man'.\",\n",
       " \"Well, I didn't know you were called 'Dennis'.\",\n",
       " \"I did say 'sorry' about the 'old woman', but from the behind you looked--\",\n",
       " 'Well, I am king!',\n",
       " \"How do you do, good lady.  I am Arthur, King of the Britons.  Who's castle is that?\",\n",
       " 'The Britons.',\n",
       " 'Well, we all are.  We are all Britons, and I am your king.',\n",
       " 'Please, please good people.  I am in haste.  Who lives in that castle?',\n",
       " 'Then who is your lord?',\n",
       " 'What?',\n",
       " 'Yes.',\n",
       " 'Yes, I see.',\n",
       " 'Be quiet!',\n",
       " 'Be quiet!  I order you to be quiet!',\n",
       " 'I am your king!',\n",
       " \"You don't vote for kings.\",\n",
       " 'The Lady of the Lake, ... [angels sing] ... her arm clad in the purest shimmering samite, held aloft Excalibur from the bosom of the water signifying by Divine Providence that I, Arthur, was to carry Excalibur. [singing stops] That is why I am your king!',\n",
       " 'Be quiet!',\n",
       " 'Shut up!',\n",
       " 'Shut up, will you.  Shut up!',\n",
       " 'Shut up!',\n",
       " 'Bloody peasant!',\n",
       " 'You fight with the strength of many men, Sir Knight. [pause] I am Arthur, King of the Britons. [pause] I seek the finest and the bravest knights in the land to join me in my court at Camelot. [pause] You have proved yourself worthy.  Will you join me? [pause] You make me sad.  So be it.  Come, Patsy.',\n",
       " 'What?',\n",
       " 'I have no quarrel with you, good Sir Knight, but I must cross this bridge.',\n",
       " 'I command you, as King of the Britons, to stand aside!',\n",
       " 'So be it!',\n",
       " 'Now stand aside, worthy adversary.',\n",
       " \"A scratch?  Your arm's off!\",\n",
       " \"Well, what's that then?\",\n",
       " 'You liar!',\n",
       " 'Victory is mine! [kneeling] We thank Thee Lord, that in Thy mer--',\n",
       " 'What?',\n",
       " 'Eh.  You are indeed brave, Sir Knight, but the fight is mine.',\n",
       " \"Look, you stupid bastard.  You've got no arms left.\",\n",
       " 'Look!',\n",
       " 'Look, stop that.',\n",
       " \"Look, I'll have your leg. [kick] Right! [whop] [ARTHUR chops the BLACK KNIGHT's right leg off] \",\n",
       " \"You'll what?\",\n",
       " 'What are you going to do, bleed on me?',\n",
       " \"You're a looney.\",\n",
       " 'Come, Patsy.',\n",
       " 'A duck!',\n",
       " 'I am Arthur, King of the Britons.',\n",
       " 'Good Sir Knight, will you come with me to Camelot, and join us at the Round Table?',\n",
       " 'What is your name?',\n",
       " 'Then I dub you Sir Bedevere, Knight of the Round Table',\n",
       " \"This new learning amazes me, Sir Bedevere.  Explain again how sheep's bladders may be employed to prevent earthquakes.\",\n",
       " 'Camelot!',\n",
       " 'Shh!  Knights, I bid you welcome to your new home.  Let us ride... to...  Camelot! [in medieval hall] ',\n",
       " \"Well, on second thought, let's not go to Camelot.  It is a silly place.\",\n",
       " 'Sorry. [boom] ',\n",
       " \"I'm averting my eyes, O Lord.\",\n",
       " 'Yes, Lord.',\n",
       " 'Good idea, O Lord!',\n",
       " 'Halt! [horn] Hallo! [pause] Hallo!',\n",
       " \"It is King Arthur, and these are my Knights of the Round Table.  Who's castle is this?\",\n",
       " 'Go and tell your master that we have been charged by God with a sacred quest.  If he will give us food and shelter for the night he can join us in our quest for the Holy Grail.',\n",
       " 'What?',\n",
       " \"Are you sure he's got one?\",\n",
       " 'Well, u-- um, can we come up and have a look?',\n",
       " 'Well, what are you then?',\n",
       " 'If you will not show us the Grail, we shall take your castle by force!',\n",
       " 'Now look here, my good man--',\n",
       " \"Now, this is your last chance.  I've been more than reasonable.\",\n",
       " 'If you do not agree to my commands, then I shall-- [twong] [mooooooo] Jesus Christ!',\n",
       " 'Right!  Charge!',\n",
       " 'Run away!',\n",
       " 'No, no.  No, no.',\n",
       " 'What happens now?',\n",
       " 'Who leaps out?',\n",
       " 'Ohh.',\n",
       " 'Run away!',\n",
       " 'And this enchanter of whom you speak, he has seen the Grail?',\n",
       " 'Where does he live?',\n",
       " 'Old man, where does he live?',\n",
       " 'And the Grail.  The Grail is there?',\n",
       " 'But the Grail!  Where is the Grail?!',\n",
       " 'The Bridge of Death, which leads to the Grail?',\n",
       " 'Who are you?',\n",
       " \"No!  Not the Knights Who Say 'Ni'!\",\n",
       " 'Those who hear them seldom live to tell the tale!',\n",
       " 'Knights of Ni, we are but simple travellers who seek the enchanter who lives beyond these woods.',\n",
       " 'Ow!  Ow!  Ow!  Agh!',\n",
       " 'Well, what is it you want?',\n",
       " 'A what?',\n",
       " 'Please, please!  No more!  We will find you a shrubbery.',\n",
       " 'O Knights of Ni, you are just and fair, and we will return with a shrubbery.',\n",
       " 'Of course.',\n",
       " 'Yes.',\n",
       " 'Old crone! [rewr!] [music stops] Is there anywhere in this town where we could buy a shrubbery? [dramatic chord] ',\n",
       " \"The Knights Who Say 'Ni'.\",\n",
       " \"If you do not tell us where we can buy a shrubbery, my friend and I will say...  we will say...  'ni'.\",\n",
       " 'Very well!  If you will not assist us voluntarily, ...  ni!',\n",
       " 'Ni!',\n",
       " 'No, no, no, no...',\n",
       " \"No, it's not that, it's 'ni'.\",\n",
       " \"No, no-- 'ni'.  You're not doing it properly.  No.\",\n",
       " \"That's it.  That's it.  You've got it.\",\n",
       " 'Ni!',\n",
       " 'Ni!',\n",
       " 'Ni!',\n",
       " 'Erm, yes.',\n",
       " \"Did you say 'shrubberies'?\",\n",
       " 'No!  No, no, no!  No',\n",
       " 'O Knights of Ni, we have brought you your shrubbery.  May we go now?',\n",
       " 'What is that?',\n",
       " \"What is this test, O Knights of-- Knights Who 'Til Recently Said 'Ni'?\",\n",
       " 'Not another shrubbery!',\n",
       " 'We shall do no such thing!',\n",
       " \"Cut down a tree with a herring?  It can't be done.\",\n",
       " 'What word?',\n",
       " \"How can we not say the word if you don't tell us what it is?\",\n",
       " \"What, 'is'?\",\n",
       " 'Sir Robin!',\n",
       " \"Surely you've not given up your quest for the Holy Grail?\",\n",
       " 'No, it is far from this place.',\n",
       " 'Oh, stop it!',\n",
       " 'Patsy!',\n",
       " 'Knights!  Forward! [boom boom boom boom boom] [squeak] [boom boom boom boom] What manner of man are you that can summon up fire without flint or tinder?',\n",
       " 'By what name are you known?',\n",
       " 'Greetings, Tim the Enchanter.',\n",
       " 'You know my name?',\n",
       " 'That is our quest.  You know much that is hidden, O Tim.',\n",
       " \"Yes, we're-- we're looking for the Holy Grail.  Our quest is to find the Holy Grail.\",\n",
       " \"And so we're-- we're-- we're-- we're looking for it.\",\n",
       " 'Uh-- uh, so, uh, anything that you could do to, uh-- to help, would be...  very...  helpful.',\n",
       " \"Fine.  Um, I don't want to waste any more of your time, but, uh, I don't suppose you could, uh, tell us where we might find a, um-- find a, uh-- a, um-- a, uh--\",\n",
       " 'A g-- a-- a g-- a g-- a-- a g--',\n",
       " 'Yes, I think so.',\n",
       " 'Yes.',\n",
       " 'Oh.  Thank you.',\n",
       " 'Thank you.',\n",
       " \"Look, um, you're a busy man, uh--\",\n",
       " 'Where could we find this cave, O Tim?',\n",
       " 'What an eccentric performance',\n",
       " \"Then we'd best leave them here and carry on on foot.  Dis-mount!\",\n",
       " 'Right!  Keep me covered.',\n",
       " 'W-- just keep me covered.',\n",
       " 'What?',\n",
       " 'Where?',\n",
       " 'What, behind the rabbit?',\n",
       " 'You silly sod!',\n",
       " 'You got us all worked up!',\n",
       " 'Ohh.',\n",
       " 'Go on, Bors.  Chop his head off!',\n",
       " 'Jesus Christ!',\n",
       " 'Oh, shut up!',\n",
       " 'Right!',\n",
       " 'Run away!  Run away!',\n",
       " 'Right.  How many did we lose?',\n",
       " \"And Bors.  That's five.\",\n",
       " \"Three.  Three.  And we'd better not risk another frontal assault.  That rabbit's dynamite.\",\n",
       " 'Oh, shut up and go and change your armor.',\n",
       " 'Like what?',\n",
       " 'No.',\n",
       " \"Yes, of course!  The Holy Hand Grenade of Antioch!  'Tis one of the sacred relics Brother Maynard carries with him!  Brother Maynard!  Bring up the Holy Hand Grenade!\",\n",
       " 'How does it, um-- how does it work?',\n",
       " 'Consult the Book of Armaments!',\n",
       " 'Right!  One...  two...  five!',\n",
       " 'Three! [angels sing] [boom] ',\n",
       " 'There!  Look!',\n",
       " 'Brother Maynard!  You are a scholar.',\n",
       " 'What does it say?',\n",
       " 'What?',\n",
       " \"Look, if he was dying, he wouldn't bother to carve 'aaggggh'.  He'd just say it!\",\n",
       " 'Oh, shut up.  Well, does it say anything else?',\n",
       " 'Aaauggh.',\n",
       " \"No, that's Saint Ives.\",\n",
       " 'Oooh!',\n",
       " 'Run away!',\n",
       " 'The Bridge of Death!',\n",
       " \"Look!  There's the old man from scene twenty-four!\",\n",
       " 'He is the keeper of the Bridge of Death.  He asks each traveller five questions--',\n",
       " 'Three questions.  He who answers the five questions--',\n",
       " 'Three questions may cross in safety.',\n",
       " 'Then you are cast into the Gorge of Eternal Peril.',\n",
       " 'Sir Robin!',\n",
       " 'Brave Sir Robin, you go.',\n",
       " 'No, no.  No.  Hang on!  Hang on!  Hang on!  Just answer the five questions--',\n",
       " 'Three questions as best you can.  And we shall watch...  and pray.',\n",
       " 'Good luck, brave Sir Launcelot.  God be with you.',\n",
       " 'It is Arthur, King of the Britons.',\n",
       " 'To seek the Holy Grail.',\n",
       " 'What do you mean?  An African or European swallow?',\n",
       " \"Well, you have to know these things when you're a king, you know. [suspenseful music] [music suddenly stops] [intermission] [suspenseful music resumes]\",\n",
       " 'Launcelot!  Launcelot!  Launcelot!',\n",
       " 'Launcelot! [police radio] Launcelot!',\n",
       " 'The Castle Aaagh.  Our quest is at an end!  God be praised!  Almighty God, we thank Thee that Thou hast vouchsafed to us the most holy-- [twong] [baaaa] Jesus Christ! [thud] ',\n",
       " 'How dare you profane this place with your presence!  I command you, in the name of the Knights of Camelot, to open the doors of this sacred castle, to which God Himself has guided us!',\n",
       " 'In the name of the Lord, we demand entrance to this sacred castle!',\n",
       " 'If you do not open this door, we shall take this castle by force! [splat] In the name of God and the glory of our-- [splat] ',\n",
       " 'Agh.  Right!  That settles it!',\n",
       " 'Walk away.  Just ignore them.',\n",
       " 'We shall attack at once!',\n",
       " 'Stand by for attack! [exciting music] [music stops] [silence] French persons!',\n",
       " 'Today the blood of many a valiant knight shall be avenged.  In the name of God, ...',\n",
       " \"... we shall not stop our fight 'til each one of you lies dead, and the Holy Grail returns to those whom God has chosen!\",\n",
       " 'Charge!']"
      ]
     },
     "execution_count": 12,
     "metadata": {},
     "output_type": "execute_result"
    }
   ],
   "source": [
    "char_dict[\"ARTHUR\"]"
   ]
  },
  {
   "cell_type": "markdown",
   "metadata": {},
   "source": [
    "## Challenge 2: Removing noise"
   ]
  },
  {
   "cell_type": "markdown",
   "metadata": {},
   "source": [
    "Write a functio below that takes a string as an argument and returns that string without punctuation or stopwords (HINT: You can get a good start for a list of stopwords here: `from nltk.corpus import stopwords`)"
   ]
  },
  {
   "cell_type": "code",
   "execution_count": 18,
   "metadata": {
    "collapsed": false
   },
   "outputs": [],
   "source": [
    "def rem_punc_stop(text_string):\n",
    "    \n",
    "    from string import punctuation\n",
    "    from nltk.corpus import stopwords\n",
    "\n",
    "    for char in punctuation:\n",
    "        text_string = text_string.replace(char, \"\")\n",
    "\n",
    "    toks = word_tokenize(text_string)\n",
    "    toks_reduced = [x for x in toks if x.lower() not in stopwords.words('english')]\n",
    "    \n",
    "    return toks_reduced"
   ]
  },
  {
   "cell_type": "markdown",
   "metadata": {},
   "source": [
    "## Challenge 3: Sentiment"
   ]
  },
  {
   "cell_type": "markdown",
   "metadata": {},
   "source": [
    "How about we look at all characters? Create an empty list `collected_stats` and iterate through `char_dict`, calculate the net polarity of each character, and append a tuple of e.g. `(ARTHUR, 11.45)` back to `collected_stats`:"
   ]
  },
  {
   "cell_type": "code",
   "execution_count": 34,
   "metadata": {
    "collapsed": false
   },
   "outputs": [],
   "source": [
    "collected_stats = []\n",
    "for k in char_dict.keys():\n",
    "    blob = TextBlob(' '.join(char_dict[k]))\n",
    "    net_pol = 0\n",
    "    for sentence in blob.sentences:\n",
    "        pol = sentence.sentiment.polarity\n",
    "        net_pol += pol\n",
    "    collected_stats.append((k, net_pol))"
   ]
  },
  {
   "cell_type": "markdown",
   "metadata": {},
   "source": [
    "Now `sort` this list of tuples by polarity, and print the list of characters in *Monty Python* according to their sentiment:"
   ]
  },
  {
   "cell_type": "code",
   "execution_count": 35,
   "metadata": {
    "collapsed": false
   },
   "outputs": [
    {
     "name": "stdout",
     "output_type": "stream",
     "text": [
      "MASTER -3.075\n",
      "TIM -1.4726488095238095\n",
      "FRENCH GUARD -1.2197916666666666\n",
      "CRONE -1.0\n",
      "KNIGHT -0.9155092592592596\n",
      "BLACK KNIGHT -0.8583333333333333\n",
      "SIR ROBIN -0.6\n",
      "ALL HEADS -0.5928571428571429\n",
      "GUEST -0.25\n",
      "PIGLET -0.2\n",
      "CUSTOMER -0.19857142857142884\n",
      "GREEN KNIGHT -0.18333333333333335\n",
      "DENNIS -0.16186507936507938\n",
      " BLACK KNIGHT -0.08333333333333333\n",
      "GOD -0.07619047619047614\n",
      "GUESTS -0.07500000000000001\n",
      "BORS -0.0627976190476191\n",
      "ROGER -0.04999999999999999\n",
      " GIRLS 0.0\n",
      "ARMY OF KNIGHTS 0.0\n",
      "KNIGHTS OF NI 0.0\n",
      "CARTOON MONKS 0.0\n",
      " GREEN KNIGHT 0.0\n",
      "HEAD KNIGHT OF NI 0.0\n",
      "CAMERAMAN 0.0\n",
      "CARTOON CHARACTERS 0.0\n",
      "FRENCH GUARDS 0.0\n",
      " CRAPPER 0.0\n",
      "PATSY 0.0\n",
      "SIR GALAHAD 0.0\n",
      "VOICE 0.0\n",
      "AMAZING 0.0\n",
      "OTHER FRENCH GUARD 0.0\n",
      "TIM THE ENCHANTER 0.0\n",
      "PRINCE HERBERT 0.0\n",
      "SIR LAUNCELOT 0.0\n",
      "KING ARTHUR 0.0\n",
      " BEDEVERE 0.0\n",
      " PARTY 0.0\n",
      "STUNNER 0.0\n",
      "S FATHER 0.0\n",
      "BROTHER MAYNARD 0.0\n",
      "ANIMATOR 0.0\n",
      "OLD CRONE 0.0\n",
      "WINSTON 0.0\n",
      "LOVELY 0.0\n",
      "PRISONER 0.0\n",
      "MONKS 0.0\n",
      "SIR BEDEVERE 0.0\n",
      "SUN 0.0\n",
      "INSPECTOR 0.0\n",
      "ROGER THE SHRUBBER 0.1\n",
      "NARRATOR 0.10800865800865794\n",
      "DIRECTOR 0.125\n",
      "HEAD KNIGHT 0.15115740740740738\n",
      "OLD MAN 0.2\n",
      "DINGO 0.21319444444444485\n",
      "HISTORIAN 0.24659090909090908\n",
      "WITCH 0.2999999999999999\n",
      "MIDDLE HEAD 0.3333333333333333\n",
      "RANDOM 0.35\n",
      "SECOND BROTHER 0.4395238095238095\n",
      "MAYNARD 0.44345238095238104\n",
      "S WIFE 0.5\n",
      "GIRLS 0.65\n",
      "WOMAN 0.7085858585858585\n",
      "CROWD 0.7142857142857142\n",
      "MAN 0.9085858585858586\n",
      "CONCORDE 0.9178571428571428\n",
      "HERBERT 0.9303571428571429\n",
      "BRIDGEKEEPER 1.0982142857142856\n",
      "LEFT HEAD 1.1494047619047618\n",
      "CARTOON CHARACTER 1.15\n",
      "RIGHT HEAD 1.35\n",
      "LAUNCELOT 1.37235119047619\n",
      "KNIGHTS 1.5234126984126983\n",
      "GALAHAD 1.8208333333333337\n",
      "ZOOT 2.53215811965812\n",
      "BEDEVERE 2.8821428571428576\n",
      "DEAD PERSON 2.9958333333333336\n",
      "ROBIN 4.4750000000000005\n",
      "MINSTREL 6.833333333333333\n",
      "FATHER 9.076167929292929\n",
      "ARTHUR 11.453183621933622\n"
     ]
    }
   ],
   "source": [
    "sorted_stats = sorted(collected_stats, key=lambda x: x[1])\n",
    "for t in sorted_stats:\n",
    "    print(t[0], t[1])"
   ]
  },
  {
   "cell_type": "markdown",
   "metadata": {},
   "source": [
    "## Challenge 4: word2vec\n",
    "\n",
    "Play around with the word2vec model above and try to put into words exactly what the model does, and how one should interpret the results. How would you contrast this with the \"bag of words\" model?"
   ]
  }
 ],
 "metadata": {
  "kernelspec": {
   "display_name": "Python 3",
   "language": "python",
   "name": "python3"
  },
  "language_info": {
   "codemirror_mode": {
    "name": "ipython",
    "version": 3
   },
   "file_extension": ".py",
   "mimetype": "text/x-python",
   "name": "python",
   "nbconvert_exporter": "python",
   "pygments_lexer": "ipython3",
   "version": "3.4.3"
  }
 },
 "nbformat": 4,
 "nbformat_minor": 0
}
